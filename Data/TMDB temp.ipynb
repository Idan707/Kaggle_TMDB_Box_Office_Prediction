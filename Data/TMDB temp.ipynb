{
 "cells": [
  {
   "cell_type": "code",
   "execution_count": 61,
   "metadata": {},
   "outputs": [],
   "source": [
    "import pandas as pd\n",
    "import  numpy as np\n",
    "import ast\n",
    "import json\n",
    "pd.set_option('display.max_rows', 500)\n",
    "pd.set_option('display.max_columns', 500)\n",
    "pd.set_option('display.width', 1000)\n",
    "from sklearn.preprocessing import MultiLabelBinarizer\n",
    "import ast\n",
    "\n",
    "train = pd.read_csv('C:/Users/idan.benaun/Documents/GitHub/Kaggle_TMDB_Box_Office_Prediction/Data/train.csv')\n",
    "test = pd.read_csv('C:/Users/idan.benaun/Documents/GitHub/Kaggle_TMDB_Box_Office_Prediction/Data/test.csv')\n",
    "dict_columns = ['belongs_to_collection', 'genres', 'production_companies', 'cast']\n",
    "mlb = MultiLabelBinarizer()"
   ]
  },
  {
   "cell_type": "code",
   "execution_count": 62,
   "metadata": {
    "scrolled": true
   },
   "outputs": [
    {
     "name": "stdout",
     "output_type": "stream",
     "text": [
      "We'll keep the companies that appear more than 30 times:\n",
      "Index(['Warner Bros.', 'Universal Pictures', 'Paramount Pictures', 'Twentieth Century Fox Film Corporation', 'Columbia Pictures', 'Metro-Goldwyn-Mayer (MGM)', 'New Line Cinema', 'Touchstone Pictures', 'Walt Disney Pictures', 'Columbia Pictures Corporation', 'TriStar Pictures', 'Relativity Media', 'Canal+', 'United Artists', 'Miramax Films', 'Village Roadshow Pictures', 'Regency Enterprises'], dtype='object')\n"
     ]
    }
   ],
   "source": [
    "def convertStringToList(strVal):\n",
    "    if type(strVal) is not str:\n",
    "        return  []\n",
    "    else:\n",
    "        return ast.literal_eval(strVal)\n",
    "    \n",
    "def formatDictColumnAndExtractNames(strVal, col=\"name\"):\n",
    "    listOfItems = convertStringToList(strVal)\n",
    "    return list(map(lambda x: x[col], listOfItems))\n",
    "\n",
    "def extractGenres(df):\n",
    "    df['genres'] = df['genres'].apply(formatDictColumnAndExtractNames)\n",
    "\n",
    "    return df.join(pd.DataFrame(mlb.fit_transform(df.pop('genres')),\n",
    "                                columns=list(map(lambda x: 'genre_'+x, mlb.classes_)),index=df.index))\n",
    "\n",
    "def extractCommonProdCompanies(df):\n",
    "    df['production_companies'] = df['production_companies'].apply(formatDictColumnAndExtractNames)\n",
    "\n",
    "    companiesCount = df['production_companies'].apply(pd.Series).stack().value_counts()\n",
    "    companiesToKeep = companiesCount[companiesCount > 30].keys()\n",
    "    print(\"We'll keep the companies that appear more than 30 times:\")\n",
    "    print(companiesToKeep)\n",
    "\n",
    "    df['production_companies'] = df['production_companies'].apply(lambda x: list(filter(lambda i: i in companiesToKeep, x)))\n",
    "\n",
    "    return df.join(pd.DataFrame(mlb.fit_transform(df.pop('production_companies')),\n",
    "                          columns=list(map(lambda x: 'prod_company_'+x,mlb.classes_)),\n",
    "                          index=df.index))\n",
    "\n",
    "def addCastLengthColumn(df):\n",
    "    castNames = df['cast'].apply(formatDictColumnAndExtractNames)\n",
    "    df['cast_len'] = castNames.apply(lambda x: len(x))\n",
    "    df = df.drop(['cast'], axis=1, inplace=True)\n",
    "    return df\n",
    "\n",
    "\n",
    "\n",
    "df = extractGenres(train)\n",
    "df = extractCommonProdCompanies(df)\n",
    "df = addCastLengthColumn(df)"
   ]
  },
  {
   "cell_type": "code",
   "execution_count": 63,
   "metadata": {},
   "outputs": [
    {
     "ename": "TypeError",
     "evalue": "'NoneType' object is not subscriptable",
     "output_type": "error",
     "traceback": [
      "\u001b[1;31m---------------------------------------------------------------------------\u001b[0m",
      "\u001b[1;31mTypeError\u001b[0m                                 Traceback (most recent call last)",
      "\u001b[1;32m<ipython-input-63-f7c1276aa63f>\u001b[0m in \u001b[0;36m<module>\u001b[1;34m()\u001b[0m\n\u001b[1;32m----> 1\u001b[1;33m \u001b[0mdf\u001b[0m\u001b[1;33m[\u001b[0m\u001b[1;34m'belongs_to_collection_bool'\u001b[0m\u001b[1;33m]\u001b[0m \u001b[1;33m=\u001b[0m \u001b[0mnp\u001b[0m\u001b[1;33m.\u001b[0m\u001b[0mwhere\u001b[0m\u001b[1;33m(\u001b[0m\u001b[0mdf\u001b[0m\u001b[1;33m[\u001b[0m\u001b[1;34m'belongs_to_collection'\u001b[0m\u001b[1;33m]\u001b[0m\u001b[1;33m.\u001b[0m\u001b[0misna\u001b[0m\u001b[1;33m(\u001b[0m\u001b[1;33m)\u001b[0m\u001b[1;33m,\u001b[0m \u001b[1;36m0\u001b[0m\u001b[1;33m,\u001b[0m \u001b[1;36m1\u001b[0m\u001b[1;33m)\u001b[0m\u001b[1;33m\u001b[0m\u001b[0m\n\u001b[0m",
      "\u001b[1;31mTypeError\u001b[0m: 'NoneType' object is not subscriptable"
     ]
    }
   ],
   "source": [
    "df['belongs_to_collection_bool'] = np.where(df['belongs_to_collection'].isna(), 0, 1)"
   ]
  },
  {
   "cell_type": "code",
   "execution_count": 57,
   "metadata": {},
   "outputs": [],
   "source": []
  },
  {
   "cell_type": "code",
   "execution_count": null,
   "metadata": {},
   "outputs": [],
   "source": []
  }
 ],
 "metadata": {
  "kernelspec": {
   "display_name": "Python 3",
   "language": "python",
   "name": "python3"
  },
  "language_info": {
   "codemirror_mode": {
    "name": "ipython",
    "version": 3
   },
   "file_extension": ".py",
   "mimetype": "text/x-python",
   "name": "python",
   "nbconvert_exporter": "python",
   "pygments_lexer": "ipython3",
   "version": "3.6.5"
  }
 },
 "nbformat": 4,
 "nbformat_minor": 2
}
